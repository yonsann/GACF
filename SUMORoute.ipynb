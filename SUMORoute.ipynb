{
 "cells": [
  {
   "cell_type": "markdown",
   "metadata": {},
   "source": [
    "> Version: 1.0 \\\n",
    "> Time: August, 2022 \\\n",
    "> Author: by XunYang, TLab, Southeast University\n",
    "\n",
    "Toy Horizontal Route:\n",
    "  - Alignment sequence: (C1-B2-A3-B4-C5) (circilar curve, transition curve, straight line, transition curve, straight curve)\n",
    "  - Length: (150m, 100m, 300m, 100m, 150m)\n",
    "  - Curvature: (1/400, 1/400-0, 0, 0-1/400, 1/400)\n",
    "  - Direction: (left, left, forward, right, right)\n"
   ]
  },
  {
   "cell_type": "markdown",
   "metadata": {},
   "source": [
    ">> i. Toy Horizontal Route in SUMO"
   ]
  },
  {
   "cell_type": "code",
   "execution_count": 1,
   "metadata": {},
   "outputs": [],
   "source": [
    "import numpy as np\n",
    "import pandas as pd\n",
    "import math\n",
    "import os\n",
    "import matplotlib.pyplot as plt"
   ]
  },
  {
   "cell_type": "code",
   "execution_count": 2,
   "metadata": {},
   "outputs": [],
   "source": [
    "# ToyRoute Information\n",
    "\n",
    "from Tools.toyRoute import ToyRouteInfor\n",
    "\n",
    "L = [150, 100, 300, 100, 150] # Length\n",
    "A = ['C', 'B', 'A', 'B', 'C'] # Alignment Type\n",
    "R = 400 # Radius\n",
    "ToyRouteInformation = ToyRouteInfor(L, R) # Information"
   ]
  },
  {
   "cell_type": "code",
   "execution_count": 3,
   "metadata": {},
   "outputs": [
    {
     "data": {
      "text/plain": [
       "dict_keys(['junction', 'nodex', 'nodey', 'curvature', 'section'])"
      ]
     },
     "execution_count": 3,
     "metadata": {},
     "output_type": "execute_result"
    }
   ],
   "source": [
    "ToyRouteInformation.keys()"
   ]
  },
  {
   "cell_type": "code",
   "execution_count": 4,
   "metadata": {},
   "outputs": [],
   "source": [
    "junction = ToyRouteInformation['junction']\n",
    "nodex = ToyRouteInformation['nodex']\n",
    "nodey = ToyRouteInformation['nodey']\n",
    "curvature = ToyRouteInformation['curvature']\n",
    "section = ToyRouteInformation['section']"
   ]
  },
  {
   "cell_type": "code",
   "execution_count": 16,
   "metadata": {},
   "outputs": [
    {
     "data": {
      "image/png": "[encoded data removed]",
      "text/plain": [
       "<Figure size 400x500 with 2 Axes>"
      ]
     },
     "metadata": {},
     "output_type": "display_data"
    }
   ],
   "source": [
    "plt.figure(figsize=(4,5))\n",
    "plt.subplot(2,1,1)\n",
    "\n",
    "\n",
    "plt.rcParams[\"font.family\"] = \"Times New Roman\"\n",
    "color=['red', 'blue', 'black', 'blue', 'red']\n",
    "for i in range(5):\n",
    "    x = section['section%d'%(i+1)]['x']\n",
    "    y = section['section%d'%(i+1)]['y']\n",
    "    plt.plot(x, y, color=color[i])\n",
    "plt.tick_params(axis='both', direction='in')\n",
    "plt.xticks(fontsize=14)\n",
    "plt.yticks(fontsize=14)\n",
    "\n",
    "\n",
    "plt.subplot(2,1,2)\n",
    "\n",
    "color=['red', 'blue', 'black', 'blue', 'red']\n",
    "ix, iy = 0, 0\n",
    "for i in range(5):\n",
    "    x = section['section%d'%(i+1)]['x']\n",
    "    y = section['section%d'%(i+1)]['y']\n",
    "    \n",
    "    plt.plot(nodex[ix:ix+len(x)], curvature[iy:iy+len(y)], color=color[i])\n",
    "    ix += len(x)\n",
    "    iy += len(y)\n",
    "    \n",
    "plt.xticks([-391.7, -249.8, -150.0, 150.0, 249.84375, 391.74407], ['', '', '', '', '', ''], fontsize=12)\n",
    "plt.yticks([0, 0.0005, 0.0010, 0.0015, 0.0020, 0.0025], ['0', '5', '10','15','20', '25'], fontsize=12)\n",
    "plt.yticks(fontsize=14)\n",
    "#plt.ylabel('Curvature ($×10^{-4}$)', fontsize=14)|\n",
    "#plt.ylabel('Curvature ($×10^{-4}$)', fontsize=14)\n",
    "plt.tick_params(axis='both', direction='in')\n",
    "plt.savefig('ToyRoute.png', bbox_inches='tight', dpi=1000)"
   ]
  },
  {
   "cell_type": "code",
   "execution_count": 12,
   "metadata": {},
   "outputs": [
    {
     "data": {
      "text/plain": [
       "[[-391.74407208759015, -50.00805850463013],\n",
       " [-249.84375, -4.1620163690476195],\n",
       " [-150.0, 0],\n",
       " [150.0, 0],\n",
       " [249.84375, 4.1620163690476195],\n",
       " [391.74407208759015, 50.00805850463013]]"
      ]
     },
     "execution_count": 12,
     "metadata": {},
     "output_type": "execute_result"
    }
   ],
   "source": [
    "junction"
   ]
  },
  {
   "cell_type": "code",
   "execution_count": 6,
   "metadata": {},
   "outputs": [],
   "source": [
    "## generate Node file: ToyRoute.nod.xml\n",
    "with open('SUMORoute/ToyRoute.nod.xml', 'w') as f:\n",
    "    f.write('<nodes>\\n')\n",
    "    for i in range(len(junction)):\n",
    "        junction_node = junction[i]  \n",
    "        x = junction_node[0]\n",
    "        y = junction_node[1]\n",
    "        f.write('    <node id=\"node%d\" x=\"%f\" y=\"%f\" type=\"priority\"/>\\n'%(i, x, y))\n",
    "    f.write('</nodes>\\n')\n",
    "    f.close()"
   ]
  },
  {
   "cell_type": "code",
   "execution_count": 7,
   "metadata": {},
   "outputs": [],
   "source": [
    "## generate Edge file: ToyRoute.edg.xml\n",
    "\n",
    "sections = ToyRouteInformation['section']\n",
    "\n",
    "with open('SUMORoute/ToyRoute.edg.xml', 'w') as f:\n",
    "\n",
    "    f.write('<edges>\\n')\n",
    "    for i in range(len(L)):\n",
    "        length, alignment = L[i], A[i]\n",
    "        f.write('    <edge id=\"%s%d\" from=\"node%d\" to=\"node%d\" priority=\"1\">\\n'%(alignment, i+1, i, i+1))\n",
    "        coordinates = sections['section%d'%(i+1)]\n",
    "        x_list, y_list = coordinates['x'], coordinates['y']\n",
    "        shape = ''\n",
    "        for k in range(len(x_list)):\n",
    "            shape += '%f,%f '%(x_list[k], y_list[k])\n",
    "        f.write('        <lane index=\"0\" speed=\"%f\" length=\"%d\" shape=\"%s\"/>\\n'%(120/3.6, length, shape))\n",
    "        f.write('    </edge>\\n')\n",
    "    f.write('</edges>\\n')\n",
    "    \n",
    "    f.close()"
   ]
  },
  {
   "cell_type": "code",
   "execution_count": 8,
   "metadata": {},
   "outputs": [
    {
     "data": {
      "text/plain": [
       "0"
      ]
     },
     "execution_count": 8,
     "metadata": {},
     "output_type": "execute_result"
    }
   ],
   "source": [
    "## generate Net file: ToyRoute.net.xml\n",
    "os.system('%SUMO_HOME%/bin/netconvert \\\n",
    "            --node-files=SUMORoute/ToyRoute.nod.xml \\\n",
    "            --edge-files=SUMORoute/ToyRoute.edg.xml \\\n",
    "            --output-file=SUMORoute/ToyRoute.net.xml')"
   ]
  },
  {
   "cell_type": "markdown",
   "metadata": {},
   "source": [
    ">> ii. Horizontal Alignment Data "
   ]
  },
  {
   "cell_type": "code",
   "execution_count": 9,
   "metadata": {},
   "outputs": [],
   "source": [
    "AlignmentInfor = {\n",
    "    'RoadSectionOrder': [1, 2, 3, 4, 5],\n",
    "    'AlignmentType': ['C', 'B', 'A', 'B', 'C'],\n",
    "    'Length': [150, 100, 300, 100, 150],\n",
    "    'CurvatureConstant': [1/400, 1/400, 0, 1/400, 1/400],\n",
    "    'DirectionMark': ['-1', 'in', '-1', 'out', '-1']}\n",
    "AlignmentInfor = pd.DataFrame(AlignmentInfor)\n",
    "AlignmentInfor.to_csv('SUMOData/Alignment.csv')"
   ]
  },
  {
   "cell_type": "markdown",
   "metadata": {},
   "source": [
    ">> iii. Trajectory data"
   ]
  },
  {
   "cell_type": "code",
   "execution_count": 10,
   "metadata": {},
   "outputs": [],
   "source": [
    "## generate traffic flow: ToyRoute.rou.xml\n",
    "import random\n",
    "\n",
    "random.seed(1)\n",
    "\n",
    "with open('SUMORoute/ToyRoute.rou.xml', 'w') as f:\n",
    "\n",
    "    f.write('<routes>\\n')\n",
    "    f.write('    <vType id=\"car\" accel=\"0.8\" decel=\"4.5\" sigma=\"0.1\" length=\"5\" maxSpeed=\"33.333\" minGap=\"5\" speedDev=\"0.1\"/>\\n')\n",
    "    f.write('    <route id=\"route0\" edges=\"C1 B2 A3 B4 C5\"/>\\n')\n",
    "    id = 1\n",
    "    for i in range(600):\n",
    "        if random.random() <= 1/3:\n",
    "            f.write('    <vehicle id=\"%d\" type=\"car\" route=\"route0\" depart=\"%d\" departSpeed=\"%f\"/>\\n'%(id, i, 20 + np.random.normal(0, 1.5, 1)))\n",
    "            id += 1\n",
    "        else:\n",
    "            continue\n",
    "    \n",
    "    f.write('</routes>\\n')\n",
    "    f.close()"
   ]
  },
  {
   "cell_type": "code",
   "execution_count": 11,
   "metadata": {},
   "outputs": [],
   "source": [
    "## generate trajectory data: roughdata\n",
    "\n",
    "import os \n",
    "import sys\n",
    " \n",
    "if 'SUMO_HOME' in os.environ:\n",
    "    tools = os.path.join(os.environ['SUMO_HOME'], 'tools')\n",
    "    sys.path.append(tools)\n",
    "else:\n",
    "    sys.exit(\"please declare environment variable 'SUMO_HOME'\")\n",
    "\n",
    "import traci\n",
    "\n",
    "random.seed(1)\n",
    "\n",
    "def RunSimulation():\n",
    "    roughdata = []\n",
    "    for i in range(600):\n",
    "        traci.simulationStep()\n",
    "        vehicle_id = traci.vehicle.getIDList()\n",
    "        for id in vehicle_id:\n",
    "            time_ = i + 1\n",
    "            id_ = int(id.split('.')[-1])\n",
    "            velocity_ = traci.vehicle.getSpeed(id)\n",
    "            pile_ = traci.vehicle.getDistance(id)\n",
    "            acceleration_ = traci.vehicle.getAcceleration(id)\n",
    "            \n",
    "            roughdata.append([id_, time_, velocity_, pile_, acceleration_])\n",
    "\n",
    "    traci.close()\n",
    "\n",
    "    return roughdata\n",
    "\n",
    "traci.start([\"sumo\", \"-c\", \"SUMORoute/ToyRoute.sumocfg\", \"--start\"])\n",
    "roughdata = RunSimulation()\n",
    "roughdata = pd.DataFrame(roughdata, columns=['id', 'time', 'velocity', 'pile', 'acceleration'])"
   ]
  },
  {
   "cell_type": "code",
   "execution_count": 12,
   "metadata": {},
   "outputs": [],
   "source": [
    "AlignmentInfor = pd.read_csv('SUMOData/Alignment.csv', index_col=0)"
   ]
  },
  {
   "cell_type": "code",
   "execution_count": 13,
   "metadata": {},
   "outputs": [
    {
     "data": {
      "text/html": [
       "<div>\n",
       "<style scoped>\n",
       "    .dataframe tbody tr th:only-of-type {\n",
       "        vertical-align: middle;\n",
       "    }\n",
       "\n",
       "    .dataframe tbody tr th {\n",
       "        vertical-align: top;\n",
       "    }\n",
       "\n",
       "    .dataframe thead th {\n",
       "        text-align: right;\n",
       "    }\n",
       "</style>\n",
       "<table border=\"1\" class=\"dataframe\">\n",
       "  <thead>\n",
       "    <tr style=\"text-align: right;\">\n",
       "      <th></th>\n",
       "      <th>RoadSectionOrder</th>\n",
       "      <th>AlignmentType</th>\n",
       "      <th>Length</th>\n",
       "      <th>CurvatureConstant</th>\n",
       "      <th>DirectionMark</th>\n",
       "    </tr>\n",
       "  </thead>\n",
       "  <tbody>\n",
       "    <tr>\n",
       "      <th>0</th>\n",
       "      <td>1</td>\n",
       "      <td>C</td>\n",
       "      <td>150</td>\n",
       "      <td>0.0025</td>\n",
       "      <td>-1</td>\n",
       "    </tr>\n",
       "    <tr>\n",
       "      <th>1</th>\n",
       "      <td>2</td>\n",
       "      <td>B</td>\n",
       "      <td>100</td>\n",
       "      <td>0.0025</td>\n",
       "      <td>in</td>\n",
       "    </tr>\n",
       "    <tr>\n",
       "      <th>2</th>\n",
       "      <td>3</td>\n",
       "      <td>A</td>\n",
       "      <td>300</td>\n",
       "      <td>0.0000</td>\n",
       "      <td>-1</td>\n",
       "    </tr>\n",
       "    <tr>\n",
       "      <th>3</th>\n",
       "      <td>4</td>\n",
       "      <td>B</td>\n",
       "      <td>100</td>\n",
       "      <td>0.0025</td>\n",
       "      <td>out</td>\n",
       "    </tr>\n",
       "    <tr>\n",
       "      <th>4</th>\n",
       "      <td>5</td>\n",
       "      <td>C</td>\n",
       "      <td>150</td>\n",
       "      <td>0.0025</td>\n",
       "      <td>-1</td>\n",
       "    </tr>\n",
       "  </tbody>\n",
       "</table>\n",
       "</div>"
      ],
      "text/plain": [
       "   RoadSectionOrder AlignmentType  Length  CurvatureConstant DirectionMark\n",
       "0                 1             C     150             0.0025            -1\n",
       "1                 2             B     100             0.0025            in\n",
       "2                 3             A     300             0.0000            -1\n",
       "3                 4             B     100             0.0025           out\n",
       "4                 5             C     150             0.0025            -1"
      ]
     },
     "execution_count": 13,
     "metadata": {},
     "output_type": "execute_result"
    }
   ],
   "source": [
    "AlignmentInfor"
   ]
  },
  {
   "cell_type": "code",
   "execution_count": 14,
   "metadata": {},
   "outputs": [],
   "source": [
    "## processing trajectory data\n",
    "from bisect import bisect_left\n",
    "\n",
    "def get_loc(x, L):\n",
    "    loc = bisect_left(L, x)\n",
    "    if loc == 0:\n",
    "        return loc + 1\n",
    "    else:\n",
    "        return loc\n",
    "\n",
    "Length = [0] + list(AlignmentInfor['Length'])\n",
    "Lengthslice = [sum(Length[:i+1]) for i in range(len(Length))]\n",
    "RoadSection, Distance, Remain = [], [], []\n",
    "for i in range(roughdata.shape[0]):\n",
    "    kilo = roughdata['pile'].iloc[i]\n",
    "    loc = get_loc(kilo, Lengthslice)\n",
    "    location = AlignmentInfor['AlignmentType'].iloc[loc-1]\n",
    "    order = AlignmentInfor['RoadSectionOrder'].iloc[loc-1]\n",
    "    length = AlignmentInfor['Length'].iloc[loc-1]\n",
    "    distance = kilo - Lengthslice[loc-1] \n",
    "    remain = Lengthslice[loc] - kilo\n",
    "    RoadSection.append(location + str(order))\n",
    "    Distance.append(distance)\n",
    "    Remain.append(remain)\n",
    "    \n",
    "roughdata['roadsection'] = RoadSection\n",
    "roughdata['distance'] = Distance\n",
    "roughdata['remain'] = Remain\n",
    "\n",
    "roughdata = roughdata.sort_values(by=['id', 'time'])\n",
    "\n",
    "roughdata.to_csv('SUMOData/Trajectory.csv')"
   ]
  }
 ],
 "metadata": {
  "kernelspec": {
   "display_name": "Python 3.7.6 64-bit",
   "language": "python",
   "name": "python3"
  },
  "language_info": {
   "codemirror_mode": {
    "name": "ipython",
    "version": 3
   },
   "file_extension": ".py",
   "mimetype": "text/x-python",
   "name": "python",
   "nbconvert_exporter": "python",
   "pygments_lexer": "ipython3",
   "version": "3.7.8"
  },
  "orig_nbformat": 4,
  "vscode": {
   "interpreter": {
    "hash": "cc38a0e111492924bb4b85ab3e0984699622868d8228e8967500e5539fe6c19b"
   }
  }
 },
 "nbformat": 4,
 "nbformat_minor": 2
}
